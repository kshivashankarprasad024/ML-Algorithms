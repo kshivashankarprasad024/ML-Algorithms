{
  "nbformat": 4,
  "nbformat_minor": 0,
  "metadata": {
    "colab": {
      "provenance": []
    },
    "kernelspec": {
      "name": "python3",
      "display_name": "Python 3"
    },
    "language_info": {
      "name": "python"
    }
  },
  "cells": [
    {
      "source": [
        "import pandas as pd\n",
        "from collections import Counter\n",
        "import math\n",
        "\n",
        "tennis=pd.read_csv(r\"/content/ID3Dataset.csv\")\n",
        "print(\"\\n Given play tennis data set:\\n\\n\",tennis)\n",
        "\n",
        "def entropy(alist):\n",
        "  c=Counter(x for x in alist)\n",
        "  instances=len(alist)\n",
        "  prob=[x / instances for x in c.values()]\n",
        "  return sum([-p * math.log(p,2) for p in prob])\n",
        "\n",
        "def information_gain(d,split,target):\n",
        "  splitting=d.groupby(split)\n",
        "  n=len(d.index)\n",
        "  agent=splitting.agg({target:[entropy,lambda x: len(x)/n]})[target]\n",
        "  agent.columns=['entropy','observations']\n",
        "  newentropy=sum(agent['observations']*agent['entropy'])\n",
        "  oldentropy=entropy(d[target])\n",
        "  return oldentropy-newentropy\n",
        "\n",
        "def id3(sub,target,a):\n",
        "  count=Counter(x for x in sub[target])\n",
        "  if len(count)==1:\n",
        "    return next(iter(count))\n",
        "  else:\n",
        "\n",
        "    gain_values = [information_gain(sub, attr, target) for attr in a]\n",
        "    maximum = gain_values.index(max(gain_values))\n",
        "    best=a[maximum]\n",
        "    print(\"Best Attribute:\",best)\n",
        "    tree={best:{}}\n",
        "    remaining=[i for i in a if i!=best]\n",
        "    for val,subset in sub.groupby(best):\n",
        "      subtree=id3(subset,target,remaining)\n",
        "      tree[best][val]=subtree\n",
        "    return tree\n",
        "\n",
        "names=list(tennis.columns)\n",
        "print(\"list of attributes:\",names)\n",
        "names.remove('PlayTennis')\n",
        "print(\"Predicting Attributes:\",names)\n",
        "tree=id3(tennis,'PlayTennis',names)\n",
        "print(\"\\n\\nThe Resultant Decision Tree is:\\n\")\n",
        "print(tree)"
      ],
      "cell_type": "code",
      "metadata": {
        "colab": {
          "base_uri": "https://localhost:8080/"
        },
        "id": "x3jGk9bqz2ZB",
        "outputId": "66297fd3-8017-4dc8-887a-1d1c00ca20aa"
      },
      "execution_count": 17,
      "outputs": [
        {
          "output_type": "stream",
          "name": "stdout",
          "text": [
            "\n",
            " Given play tennis data set:\n",
            "\n",
            "    PlayTennis   Outlook Temperature Humidity    Wind\n",
            "0          No     Sunny         Hot     High    Weak\n",
            "1          No     Sunny         Hot     High  Strong\n",
            "2          No  Overcast         Hot     High    Weak\n",
            "3          No      Rain        Mild     High    Weak\n",
            "4         NaN      Rain        Cool   Normal    Weak\n",
            "5          No      Rain        Cool   Normal  Strong\n",
            "6          No  Overcast        Cool   Normal  Strong\n",
            "7          No     Sunny        Mild     High    Weak\n",
            "8          No     Sunny        Cool   Normal    Weak\n",
            "9          No      Rain        Mild   Normal    Weak\n",
            "10        NaN     Sunny        Mild   Normal  Strong\n",
            "11         No  Overcast        Mild     High  Strong\n",
            "12         No  Overcast         Hot   Normal    Weak\n",
            "13        NaN      Rain        Mild     High  Strong\n",
            "list of attributes: ['PlayTennis', 'Outlook', 'Temperature', 'Humidity', 'Wind']\n",
            "Predicting Attributes: ['Outlook', 'Temperature', 'Humidity', 'Wind']\n",
            "Best Attribute: Outlook\n",
            "Best Attribute: Temperature\n",
            "Best Attribute: Wind\n",
            "Best Attribute: Wind\n",
            "Best Attribute: Temperature\n",
            "Best Attribute: Humidity\n",
            "\n",
            "\n",
            "The Resultant Decision Tree is:\n",
            "\n",
            "{'Outlook': {'Overcast': 'No', 'Rain': {'Temperature': {'Cool': {'Wind': {'Strong': 'No', 'Weak': nan}}, 'Mild': {'Wind': {'Strong': nan, 'Weak': 'No'}}}}, 'Sunny': {'Temperature': {'Cool': 'No', 'Hot': 'No', 'Mild': {'Humidity': {'High': 'No', 'Normal': nan}}}}}}\n"
          ]
        }
      ]
    },
    {
      "cell_type": "code",
      "source": [
        "!git clone <https://github.com/kshivashankarprasad024/ML-Algorithms.git>"
      ],
      "metadata": {
        "colab": {
          "base_uri": "https://localhost:8080/"
        },
        "id": "HKs46fvz3Cwi",
        "outputId": "e16bb3a1-f5ed-499b-fdfe-3b939a5d9b79"
      },
      "execution_count": 18,
      "outputs": [
        {
          "output_type": "stream",
          "name": "stdout",
          "text": [
            "/bin/bash: -c: line 1: syntax error near unexpected token `newline'\n",
            "/bin/bash: -c: line 1: `git clone <https://github.com/kshivashankarprasad024/ML-Algorithms.git>'\n"
          ]
        }
      ]
    }
  ]
}