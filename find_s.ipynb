{
  "nbformat": 4,
  "nbformat_minor": 0,
  "metadata": {
    "colab": {
      "provenance": []
    },
    "kernelspec": {
      "name": "python3",
      "display_name": "Python 3"
    },
    "language_info": {
      "name": "python"
    }
  },
  "cells": [
    {
      "cell_type": "code",
      "execution_count": 1,
      "metadata": {
        "colab": {
          "base_uri": "https://localhost:8080/"
        },
        "id": "cQ7lw0T59fv4",
        "outputId": "f6df9bf3-e8aa-40fd-c560-efbd7515c841"
      },
      "outputs": [
        {
          "output_type": "stream",
          "name": "stdout",
          "text": [
            "\n",
            " The given training data set \n",
            "\n",
            "['Sunny', 'Warm', 'Normal', 'Strong', 'Warm', 'Same', 'Yes']\n",
            "['Sunny', 'Warm', 'High', 'Strong', 'Warm', 'Same', 'Yes']\n",
            "['Rainy', 'Cold', 'High', 'Strong', 'Warm', 'Change', 'No']\n",
            "['Sunny', 'Warm', 'High', 'Strong', 'Cool', 'Change', 'Yes']\n",
            "The initial values of hypothesis \n",
            "['0', '0', '0', '0', '0', '0']\n",
            "For training instance no: 3  the hypothesis is  ['Sunny', 'Warm', '?', 'Strong', '?', '?']\n",
            "The maximally specific hypothesis is  ['Sunny', 'Warm', '?', 'Strong', '?', '?']\n"
          ]
        }
      ],
      "source": [
        "import csv\n",
        "num_attributes=6\n",
        "a=[]\n",
        "print(\"\\n The given training data set \\n\")\n",
        "csvfile=open(r\"/content/candiateliminationdataset.csv\",'r')\n",
        "reader=csv.reader(csvfile)\n",
        "for row in reader:\n",
        "  a.append(row)\n",
        "  print(row)\n",
        "print(\"The initial values of hypothesis \")\n",
        "hypothesis=['0']*num_attributes\n",
        "print(hypothesis)\n",
        "\n",
        "for j in range(0,num_attributes):\n",
        "  hypothesis[j]=a[0][j]\n",
        "\n",
        "for i in range(0,len(a)):\n",
        "  if(a[i][num_attributes]=='Yes'):\n",
        "    for j in range(0,num_attributes):\n",
        "      if(a[i][j]!=hypothesis[j]):\n",
        "        hypothesis[j]='?'\n",
        "      else:\n",
        "        hypothesis[j]=a[i][j]\n",
        "print(\"For training instance no:\",i,\" the hypothesis is \",hypothesis)\n",
        "print(\"The maximally specific hypothesis is \",hypothesis)\n",
        "\n",
        "\n",
        "\n"
      ]
    }
  ]
}