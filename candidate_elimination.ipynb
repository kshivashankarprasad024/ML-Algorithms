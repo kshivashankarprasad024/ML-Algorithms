{
  "nbformat": 4,
  "nbformat_minor": 0,
  "metadata": {
    "colab": {
      "provenance": []
    },
    "kernelspec": {
      "name": "python3",
      "display_name": "Python 3"
    },
    "language_info": {
      "name": "python"
    }
  },
  "cells": [
    {
      "cell_type": "code",
      "execution_count": 1,
      "metadata": {
        "colab": {
          "base_uri": "https://localhost:8080/"
        },
        "id": "0O8if6d49H5N",
        "outputId": "f4a56c03-d179-4bee-8c70-600f0cdf33c9"
      },
      "outputs": [
        {
          "output_type": "stream",
          "name": "stdout",
          "text": [
            "['Sunny', 'Warm', 'Normal', 'Strong', 'Warm', 'Same', 'Yes']\n",
            "['Sunny', 'Warm', 'High', 'Strong', 'Warm', 'Same', 'Yes']\n",
            "['Rainy', 'Cold', 'High', 'Strong', 'Warm', 'Change', 'No']\n",
            "['Sunny', 'Warm', 'High', 'Strong', 'Cool', 'Change', 'Yes']\n",
            "Initial hypothesis is \n",
            "The most specific :  ['0', '0', '0', '0', '0', '0']\n",
            "The most general :  ['?', '?', '?', '?', '?', '?']\n",
            "The candidate algorithm \n",
            "\n",
            "For instance 1 the hypothesis is S1 ['Sunny', 'Warm', 'Normal', 'Strong', 'Warm', 'Same']\n",
            "For instance 1 the hypothesis is G1 ['?', '?', '?', '?', '?', '?']\n",
            "For instance 2 the hypothesis is S2 ['Sunny', 'Warm', '?', 'Strong', 'Warm', 'Same']\n",
            "For instance 2 the hypothesis is G2 ['?', '?', '?', '?', '?', '?']\n",
            "For instance 3 the hypothesis is S3 ['Sunny', 'Warm', '?', 'Strong', 'Warm', 'Same']\n",
            "For instance 3 the hypothesis is G3 [['Sunny', '?', '?', '?', '?', '?'], ['?', 'Warm', '?', '?', '?', '?'], ['?', '?', '?', '?', '?', 'Same']]\n",
            "For instance 4 the hypothesis is S4 ['Sunny', 'Warm', '?', 'Strong', '?', '?']\n",
            "For instance 4 the hypothesis is G4 [['Sunny', '?', '?', '?', '?', '?'], ['?', 'Warm', '?', '?', '?', '?']]\n"
          ]
        }
      ],
      "source": [
        "import csv\n",
        "a=[]\n",
        "csvfile=open(r\"/content/candiateliminationdataset.csv\",'r')\n",
        "reader=csv.reader(csvfile)\n",
        "for row in reader:\n",
        "    a.append(row)\n",
        "    print(row)\n",
        "num_attributes=len(a[0])-1\n",
        "print(\"Initial hypothesis is \")\n",
        "S=['0']*num_attributes\n",
        "G=['?']*num_attributes\n",
        "print(\"The most specific : \",S)\n",
        "print(\"The most general : \",G)\n",
        "\n",
        "for j in range(0,num_attributes):\n",
        "    S[j]=a[0][j]\n",
        "print(\"The candidate algorithm \\n\")\n",
        "temp=[]\n",
        "\n",
        "for i in range(0,len(a)):\n",
        "    if(a[i][num_attributes]=='Yes'):\n",
        "        for j in range(0,num_attributes):\n",
        "            if(a[i][j]!=S[j]):\n",
        "               S[j]='?'\n",
        "        for j in range(0,num_attributes):\n",
        "            for k in range(1,len(temp)):\n",
        "                if temp[k][j]!='?' and temp[k][j]!=S[j]:\n",
        "                   del temp[k]\n",
        "        print(\"For instance {0} the hypothesis is S{0}\".format(i+1),S)\n",
        "        if(len(temp)==0):\n",
        "            print(\"For instance {0} the hypothesis is G{0}\".format(i+1),G)\n",
        "        else:\n",
        "            print(\"For instance {0} the hypothesis is G{0}\".format(i+1),temp)\n",
        "\n",
        "    if(a[i][num_attributes]=='No'):\n",
        "       for j in range(0,num_attributes):\n",
        "           if(S[j]!=a[i][j] and S[j]!='?'):\n",
        "              G[j]=S[j]\n",
        "              temp.append(G)\n",
        "              G=['?']*num_attributes\n",
        "       print(\"For instance {0} the hypothesis is S{0}\".format(i+1),S)\n",
        "       print(\"For instance {0} the hypothesis is G{0}\".format(i+1),temp)\n"
      ]
    },
    {
      "cell_type": "code",
      "source": [],
      "metadata": {
        "id": "cFBd3pLY-Yro"
      },
      "execution_count": null,
      "outputs": []
    }
  ]
}